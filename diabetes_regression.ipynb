{
 "cells": [
  {
   "cell_type": "code",
   "execution_count": null,
   "metadata": {},
   "outputs": [],
   "source": [
    "#Regression model modeling that predicts the progress of the patient's disease after one year based on the patient's data\n",
    "import numpy as np\n",
    "import pandas as pd\n",
    "import torch\n",
    "import torch.nn as nn\n",
    "from sklearn.datasets import load_diabetes\n",
    "\n",
    "diabetes_data = load_diabetes()\n",
    "\n",
    "#numpy로 먼저 가져온 다음에 tensor로 변환\n",
    "x = torch.from_numpy(np.array(diabetes_data.data[:,:-1],dtype = np.float32))#target열 포함 총 11개의 col이 있는데 target 열(맨 마지막)을 빼고 가져오겠다\n",
    "y = torch.from_numpy(np.array(diabetes_data.data[:,[-1]],dtype = np.float32))#target 열(맨 마지막)만 가져오겠다,[-1] 사용이유는 1차원(벡터)가 아닌 2차원 형태로 가져 오기 위함\n",
    "print(x.shape)\n",
    "print(y.shape)\n",
    "print(y)\n"
   ]
  },
  {
   "cell_type": "code",
   "execution_count": null,
   "metadata": {},
   "outputs": [],
   "source": [
    "# regression-model modeling\n",
    "import torch.nn.functional as F\n",
    "\n",
    "class Net(nn.Module):\n",
    "  def __init__(self,input_dim,out_dim):\n",
    "    super().__init__()\n",
    "    self.linear = nn.Linear(input_dim,out_dim)\n",
    "\n",
    "  def forward(self,x):\n",
    "    return self.linear(x)\n",
    "print(x.size(1),y.size(1))\n",
    "model = Net(x.size(1),y.size(1)) #각 9,1이 들어감x,y의 1번 째 인덱스가 들어가는 것\n"
   ]
  },
  {
   "cell_type": "code",
   "execution_count": null,
   "metadata": {},
   "outputs": [],
   "source": [
    "# training\n",
    "lr = 0.01\n",
    "epoch_num = 10000\n",
    "optimizer = torch.optim.SGD(model.parameters(),lr = lr)\n",
    "\n",
    "for epoch in range(epoch_num+1):\n",
    "  out = model(x)\n",
    "  if epoch == 0:\n",
    "    #out.shape는 y.shape가 동일\n",
    "    print(out.shape)\n",
    "  loss = F.mse_loss(out,y)\n",
    "\n",
    "  optimizer.zero_grad()\n",
    "  loss.backward()\n",
    "  optimizer.step()"
   ]
  },
  {
   "cell_type": "code",
   "execution_count": null,
   "metadata": {},
   "outputs": [],
   "source": [
    "# check containing parameters\n",
    "print(loss)\n",
    "for param in model.parameters():\n",
    "  print(param)"
   ]
  },
  {
   "cell_type": "code",
   "execution_count": null,
   "metadata": {},
   "outputs": [],
   "source": [
    "# install plotly\n",
    "!pip install plotly"
   ]
  },
  {
   "cell_type": "code",
   "execution_count": null,
   "metadata": {},
   "outputs": [],
   "source": [
    "# visualize the distribution of the predicted values and the actual values\n",
    "df = pd.DataFrame(torch.cat([y,out],dim=1).detach().numpy(),columns=['y','out'])\n",
    "\n",
    "import plotly.graph_objects as go\n",
    "import plotly.offline as pyo # jupyter notebook 에서 보여지도록 설정하는 부분 (가끔 안나올 때, 이 명령을 하면 됨)\n",
    "pyo.init_notebook_mode()\n",
    "\n",
    "fig = go.Figure()\n",
    "\n",
    "fig.add_trace(go.Scatter(x=df.index, y=df['y'], mode='markers', name='y'))\n",
    "fig.add_trace(go.Scatter(x=df.index, y=df['out'], mode='markers', name='out'))\n",
    "\n",
    "fig.update_layout(yaxis_range=[-0.5,0.5])\n",
    "fig.show()"
   ]
  }
 ],
 "metadata": {
  "language_info": {
   "name": "python"
  }
 },
 "nbformat": 4,
 "nbformat_minor": 2
}
